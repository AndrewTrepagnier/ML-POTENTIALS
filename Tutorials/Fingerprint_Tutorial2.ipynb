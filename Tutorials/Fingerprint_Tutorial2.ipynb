{
 "cells": [
  {
   "cell_type": "markdown",
   "id": "030b5a58-ed8a-47b4-8baf-7fad7e576307",
   "metadata": {},
   "source": [
    "# Fingerprint Tutorial 2\n",
    "\n",
    "Updated: 04/13/2025\n",
    "\n",
    "**Contributing Authors**  \n",
    "Andrew Trepagnier,\n",
    "*Mississippi State University*  \n",
    "📧 andrew.trepagnier1@gmail.com\n",
    "\n",
    "---"
   ]
  },
  {
   "cell_type": "markdown",
   "id": "68505829-23c7-4600-aabf-aeb2bf45635f",
   "metadata": {},
   "source": [
    "## Continuation\n",
    "\n",
    "In the last tutorial, we followed the step-by-step process of computing the pair interaction fingerprints of the 4 atom system. Next, we will compute the 3-Body fingerprints. The 3-Body fingerprints encode the bond angles between neighboring atoms, which is an essential descriptor of the local atomic environment. \n",
    "\n",
    "In this example, we will consider a more realistic model of a Body-Cenetered Cubic(BCC) crystal structure of 9 atoms. While it may seem more complicated, the process of computation remains the same. \n",
    "Visual representation of the BCC configuration:"
   ]
  },
  {
   "cell_type": "markdown",
   "id": "608f1379-b228-4d2f-85cd-94be8491811b",
   "metadata": {},
   "source": [
    "<img src=\"pics/BCC.png\" alt=\"Diagram\" width=\"500\">"
   ]
  },
  {
   "cell_type": "code",
   "execution_count": 2,
   "id": "af5cb2d1-1b1e-4020-9aae-c8f7b9009721",
   "metadata": {},
   "outputs": [],
   "source": [
    "import numpy as np"
   ]
  },
  {
   "cell_type": "code",
   "execution_count": 7,
   "id": "92d001ed-e8d2-49ad-991c-7408def6485f",
   "metadata": {},
   "outputs": [
    {
     "name": "stdout",
     "output_type": "stream",
     "text": [
      "[[0.  0.  0. ]\n",
      " [1.  0.  0. ]\n",
      " [0.  1.  0. ]\n",
      " [0.  0.  1. ]\n",
      " [1.  1.  0. ]\n",
      " [1.  0.  1. ]\n",
      " [0.  1.  1. ]\n",
      " [1.  1.  1. ]\n",
      " [0.5 0.5 0.5]]\n",
      "The number of atoms in the system is: 9\n"
     ]
    }
   ],
   "source": [
    "\n",
    "def bcc_positions(a):\n",
    "    positions = []\n",
    "    # Corner atoms\n",
    "    positions.append([0, 0, 0])\n",
    "    positions.append([a, 0, 0])\n",
    "    positions.append([0, a, 0])\n",
    "    positions.append([0, 0, a])\n",
    "    positions.append([a, a, 0])\n",
    "    positions.append([a, 0, a])\n",
    "    positions.append([0, a, a])\n",
    "    positions.append([a, a, a])\n",
    "    # Center atom\n",
    "    positions.append([a/2, a/2, a/2])\n",
    "    return np.array(positions)\n",
    "    \n",
    "atom_positions = bcc_positions(1)\n",
    "print(atom_positions)\n",
    "print(f\"The number of atoms in the system is: {len(atom_positions)}\")"
   ]
  },
  {
   "cell_type": "code",
   "execution_count": 13,
   "id": "fd5d7314-1f67-42c8-ac47-865beb8b06ca",
   "metadata": {},
   "outputs": [
    {
     "name": "stdout",
     "output_type": "stream",
     "text": [
      "[[0.         1.         1.         1.         1.41421356 1.41421356\n",
      "  1.41421356 1.73205081 0.8660254 ]\n",
      " [1.         0.         1.41421356 1.41421356 1.         1.\n",
      "  1.73205081 1.41421356 0.8660254 ]\n",
      " [1.         1.41421356 0.         1.41421356 1.         1.73205081\n",
      "  1.         1.41421356 0.8660254 ]\n",
      " [1.         1.41421356 1.41421356 0.         1.73205081 1.\n",
      "  1.         1.41421356 0.8660254 ]\n",
      " [1.41421356 1.         1.         1.73205081 0.         1.41421356\n",
      "  1.41421356 1.         0.8660254 ]\n",
      " [1.41421356 1.         1.73205081 1.         1.41421356 0.\n",
      "  1.41421356 1.         0.8660254 ]\n",
      " [1.41421356 1.73205081 1.         1.         1.41421356 1.41421356\n",
      "  0.         1.         0.8660254 ]\n",
      " [1.73205081 1.41421356 1.41421356 1.41421356 1.         1.\n",
      "  1.         0.         0.8660254 ]\n",
      " [0.8660254  0.8660254  0.8660254  0.8660254  0.8660254  0.8660254\n",
      "  0.8660254  0.8660254  0.        ]]\n",
      "The distance matrix is a (9, 9) matrice\n"
     ]
    }
   ],
   "source": [
    "# Build Distance Matrix the same way as the pair interaction fingerprint\n",
    "num_atoms = len(atom_positions)\n",
    "\n",
    "distance_matrix = np.zeros([num_atoms, num_atoms])\n",
    "for i in range(num_atoms):                                               \n",
    "    for j in range(num_atoms):                                          \n",
    "        if i != j:\n",
    "            distance_matrix[i,j] = np.linalg.norm(atom_positions[i] - atom_positions[j])\n",
    "print(distance_matrix)\n",
    "print(f\"The distance matrix is a {np.shape(distance_matrix)} matrice\")"
   ]
  },
  {
   "cell_type": "markdown",
   "id": "b2e793f3-460d-4ea5-9169-e869237a6408",
   "metadata": {},
   "source": [
    "The 3 Body fingerprint considers the bond angle formed between neighboring atoms. So, just like the distance matrix, we will need to make a table of angles formed from every i,j,k group of atoms. That means that each ij pair, there will be num_atoms - 1 angles. Since there are some ij pairs that reside colinearlly to each other, there will be zeros automatically populated in these spaces.\n",
    "\n",
    "\n",
    "\n",
    "<div style=\"display: flex; gap: 10px;\">\n",
    "  <img src=\"pics/shadedtri3.png\" alt=\"Diagram\" width=\"500\">\n",
    "  <img src=\"pics/shadedtri2.png\" alt=\"Diagram\" width=\"500\">\n",
    "</div>"
   ]
  },
  {
   "cell_type": "code",
   "execution_count": null,
   "id": "9c8cfdab-9bee-4c5a-9e43-5a87b00a1f15",
   "metadata": {},
   "outputs": [],
   "source": []
  },
  {
   "cell_type": "code",
   "execution_count": null,
   "id": "98faf613-cf9b-4544-9c9f-4adea3fd163f",
   "metadata": {},
   "outputs": [],
   "source": []
  }
 ],
 "metadata": {
  "kernelspec": {
   "display_name": "Python 3 (ipykernel)",
   "language": "python",
   "name": "python3"
  },
  "language_info": {
   "codemirror_mode": {
    "name": "ipython",
    "version": 3
   },
   "file_extension": ".py",
   "mimetype": "text/x-python",
   "name": "python",
   "nbconvert_exporter": "python",
   "pygments_lexer": "ipython3",
   "version": "3.12.6"
  }
 },
 "nbformat": 4,
 "nbformat_minor": 5
}
